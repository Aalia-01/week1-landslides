{
 "cells": [
  {
   "cell_type": "code",
   "execution_count": null,
   "id": "ba1707b0",
   "metadata": {},
   "outputs": [
    {
     "ename": "ModuleNotFoundError",
     "evalue": "No module named 'pandas'",
     "output_type": "error",
     "traceback": [
      "\u001b[31m---------------------------------------------------------------------------\u001b[39m",
      "\u001b[31mModuleNotFoundError\u001b[39m                       Traceback (most recent call last)",
      "\u001b[36mCell\u001b[39m\u001b[36m \u001b[39m\u001b[32mIn[1]\u001b[39m\u001b[32m, line 1\u001b[39m\n\u001b[32m----> \u001b[39m\u001b[32m1\u001b[39m \u001b[38;5;28;01mimport\u001b[39;00m\u001b[38;5;250m \u001b[39m\u001b[34;01mpandas\u001b[39;00m\u001b[38;5;250m \u001b[39m\u001b[38;5;28;01mas\u001b[39;00m\u001b[38;5;250m \u001b[39m\u001b[34;01mpd\u001b[39;00m\n\u001b[32m      3\u001b[39m \u001b[38;5;66;03m# load the dataset\u001b[39;00m\n\u001b[32m      4\u001b[39m df = pd.read_csv(\u001b[33m\"\u001b[39m\u001b[33mGlobal_Landslide_Catalog_Export.csv\u001b[39m\u001b[33m\"\u001b[39m)   \u001b[38;5;66;03m# use the exact CSV name\u001b[39;00m\n",
      "\u001b[31mModuleNotFoundError\u001b[39m: No module named 'pandas'"
     ]
    }
   ],
   "source": [
    "import pandas as pd\n",
    "\n",
    "\n",
    "df = pd.read_csv(\"Global_Landslide_Catalog_Export.csv\")   \n",
    "\n",
    "\n",
    "df.head()"
   ]
  },
  {
   "cell_type": "code",
   "execution_count": null,
   "id": "14c3edc1",
   "metadata": {},
   "outputs": [
    {
     "ename": "ModuleNotFoundError",
     "evalue": "No module named 'pandas'",
     "output_type": "error",
     "traceback": [
      "\u001b[31m---------------------------------------------------------------------------\u001b[39m",
      "\u001b[31mModuleNotFoundError\u001b[39m                       Traceback (most recent call last)",
      "\u001b[36mCell\u001b[39m\u001b[36m \u001b[39m\u001b[32mIn[2]\u001b[39m\u001b[32m, line 1\u001b[39m\n\u001b[32m----> \u001b[39m\u001b[32m1\u001b[39m \u001b[38;5;28;01mimport\u001b[39;00m\u001b[38;5;250m \u001b[39m\u001b[34;01mpandas\u001b[39;00m\u001b[38;5;250m \u001b[39m\u001b[38;5;28;01mas\u001b[39;00m\u001b[38;5;250m \u001b[39m\u001b[34;01mpd\u001b[39;00m\n\u001b[32m      3\u001b[39m \u001b[38;5;66;03m# load the dataset\u001b[39;00m\n\u001b[32m      4\u001b[39m df = pd.read_csv(\u001b[33m\"\u001b[39m\u001b[33mGlobal_Landslide_Catalog_Export.csv\u001b[39m\u001b[33m\"\u001b[39m)   \u001b[38;5;66;03m# use the exact CSV name\u001b[39;00m\n",
      "\u001b[31mModuleNotFoundError\u001b[39m: No module named 'pandas'"
     ]
    }
   ],
   "source": [
    "import pandas as pd\n",
    "\n",
    "\n",
    "df = pd.read_csv(\"Global_Landslide_Catalog_Export.csv\")   \n",
    "\n",
    "\n",
    "df.head()"
   ]
  },
  {
   "cell_type": "code",
   "execution_count": 1,
   "id": "04b026b6",
   "metadata": {},
   "outputs": [
    {
     "ename": "ModuleNotFoundError",
     "evalue": "No module named 'pandas'",
     "output_type": "error",
     "traceback": [
      "\u001b[31m---------------------------------------------------------------------------\u001b[39m",
      "\u001b[31mModuleNotFoundError\u001b[39m                       Traceback (most recent call last)",
      "\u001b[36mCell\u001b[39m\u001b[36m \u001b[39m\u001b[32mIn[1]\u001b[39m\u001b[32m, line 1\u001b[39m\n\u001b[32m----> \u001b[39m\u001b[32m1\u001b[39m \u001b[38;5;28;01mimport\u001b[39;00m\u001b[38;5;250m \u001b[39m\u001b[34;01mpandas\u001b[39;00m\u001b[38;5;250m \u001b[39m\u001b[38;5;28;01mas\u001b[39;00m\u001b[38;5;250m \u001b[39m\u001b[34;01mpd\u001b[39;00m\n\u001b[32m      2\u001b[39m \u001b[38;5;28mprint\u001b[39m(pd.__version__)\n",
      "\u001b[31mModuleNotFoundError\u001b[39m: No module named 'pandas'"
     ]
    }
   ],
   "source": [
    "import pandas as pd\n",
    "print(pd.__version__)"
   ]
  },
  {
   "cell_type": "code",
   "execution_count": 2,
   "id": "5a250deb",
   "metadata": {},
   "outputs": [
    {
     "name": "stderr",
     "output_type": "stream",
     "text": [
      "'which' is not recognized as an internal or external command,\n",
      "operable program or batch file.\n"
     ]
    }
   ],
   "source": [
    "!which python"
   ]
  },
  {
   "cell_type": "code",
   "execution_count": 3,
   "id": "ad558ae1",
   "metadata": {},
   "outputs": [
    {
     "name": "stdout",
     "output_type": "stream",
     "text": [
      "c:\\Users\\aalia\\lenv\\python.exe\n",
      "C:\\Users\\aalia\\AppData\\Local\\Programs\\Python\\Python313\\python.exe\n",
      "C:\\Users\\aalia\\anaconda3\\python.exe\n",
      "C:\\Users\\aalia\\AppData\\Local\\Microsoft\\WindowsApps\\python.exe\n"
     ]
    }
   ],
   "source": [
    "! where python"
   ]
  },
  {
   "cell_type": "code",
   "execution_count": 4,
   "id": "fdc64cd0",
   "metadata": {},
   "outputs": [
    {
     "name": "stderr",
     "output_type": "stream",
     "text": [
      "WARNING: Package(s) not found: pandas\n"
     ]
    }
   ],
   "source": [
    "! pip show pandas"
   ]
  },
  {
   "cell_type": "code",
   "execution_count": 5,
   "id": "e2243573",
   "metadata": {},
   "outputs": [
    {
     "name": "stdout",
     "output_type": "stream",
     "text": [
      "Collecting pandas\n",
      "  Using cached pandas-2.3.2-cp312-cp312-win_amd64.whl.metadata (19 kB)\n",
      "Collecting numpy>=1.26.0 (from pandas)\n",
      "  Using cached numpy-2.3.2-cp312-cp312-win_amd64.whl.metadata (60 kB)\n",
      "Requirement already satisfied: python-dateutil>=2.8.2 in c:\\users\\aalia\\lenv\\lib\\site-packages (from pandas) (2.9.0.post0)\n",
      "Collecting pytz>=2020.1 (from pandas)\n",
      "  Using cached pytz-2025.2-py2.py3-none-any.whl.metadata (22 kB)\n",
      "Collecting tzdata>=2022.7 (from pandas)\n",
      "  Using cached tzdata-2025.2-py2.py3-none-any.whl.metadata (1.4 kB)\n",
      "Requirement already satisfied: six>=1.5 in c:\\users\\aalia\\lenv\\lib\\site-packages (from python-dateutil>=2.8.2->pandas) (1.17.0)\n",
      "Using cached pandas-2.3.2-cp312-cp312-win_amd64.whl (11.0 MB)\n",
      "Using cached numpy-2.3.2-cp312-cp312-win_amd64.whl (12.8 MB)\n",
      "Using cached pytz-2025.2-py2.py3-none-any.whl (509 kB)\n",
      "Using cached tzdata-2025.2-py2.py3-none-any.whl (347 kB)\n",
      "Installing collected packages: pytz, tzdata, numpy, pandas\n",
      "\n",
      "   ---------------------------------------- 0/4 [pytz]\n",
      "   ---------------------------------------- 0/4 [pytz]\n",
      "   ---------- ----------------------------- 1/4 [tzdata]\n",
      "   ---------- ----------------------------- 1/4 [tzdata]\n",
      "   -------------------- ------------------- 2/4 [numpy]\n",
      "   -------------------- ------------------- 2/4 [numpy]\n",
      "   -------------------- ------------------- 2/4 [numpy]\n",
      "   -------------------- ------------------- 2/4 [numpy]\n",
      "   -------------------- ------------------- 2/4 [numpy]\n",
      "   -------------------- ------------------- 2/4 [numpy]\n",
      "   -------------------- ------------------- 2/4 [numpy]\n",
      "   -------------------- ------------------- 2/4 [numpy]\n",
      "   -------------------- ------------------- 2/4 [numpy]\n",
      "   -------------------- ------------------- 2/4 [numpy]\n",
      "   -------------------- ------------------- 2/4 [numpy]\n",
      "   -------------------- ------------------- 2/4 [numpy]\n",
      "   -------------------- ------------------- 2/4 [numpy]\n",
      "   -------------------- ------------------- 2/4 [numpy]\n",
      "   -------------------- ------------------- 2/4 [numpy]\n",
      "   -------------------- ------------------- 2/4 [numpy]\n",
      "   ------------------------------ --------- 3/4 [pandas]\n",
      "   ------------------------------ --------- 3/4 [pandas]\n",
      "   ------------------------------ --------- 3/4 [pandas]\n",
      "   ------------------------------ --------- 3/4 [pandas]\n",
      "   ------------------------------ --------- 3/4 [pandas]\n",
      "   ------------------------------ --------- 3/4 [pandas]\n",
      "   ------------------------------ --------- 3/4 [pandas]\n",
      "   ------------------------------ --------- 3/4 [pandas]\n",
      "   ------------------------------ --------- 3/4 [pandas]\n",
      "   ------------------------------ --------- 3/4 [pandas]\n",
      "   ------------------------------ --------- 3/4 [pandas]\n",
      "   ------------------------------ --------- 3/4 [pandas]\n",
      "   ------------------------------ --------- 3/4 [pandas]\n",
      "   ------------------------------ --------- 3/4 [pandas]\n",
      "   ------------------------------ --------- 3/4 [pandas]\n",
      "   ------------------------------ --------- 3/4 [pandas]\n",
      "   ------------------------------ --------- 3/4 [pandas]\n",
      "   ------------------------------ --------- 3/4 [pandas]\n",
      "   ------------------------------ --------- 3/4 [pandas]\n",
      "   ------------------------------ --------- 3/4 [pandas]\n",
      "   ------------------------------ --------- 3/4 [pandas]\n",
      "   ------------------------------ --------- 3/4 [pandas]\n",
      "   ------------------------------ --------- 3/4 [pandas]\n",
      "   ------------------------------ --------- 3/4 [pandas]\n",
      "   ------------------------------ --------- 3/4 [pandas]\n",
      "   ------------------------------ --------- 3/4 [pandas]\n",
      "   ------------------------------ --------- 3/4 [pandas]\n",
      "   ------------------------------ --------- 3/4 [pandas]\n",
      "   ------------------------------ --------- 3/4 [pandas]\n",
      "   ------------------------------ --------- 3/4 [pandas]\n",
      "   ------------------------------ --------- 3/4 [pandas]\n",
      "   ------------------------------ --------- 3/4 [pandas]\n",
      "   ------------------------------ --------- 3/4 [pandas]\n",
      "   ------------------------------ --------- 3/4 [pandas]\n",
      "   ------------------------------ --------- 3/4 [pandas]\n",
      "   ------------------------------ --------- 3/4 [pandas]\n",
      "   ------------------------------ --------- 3/4 [pandas]\n",
      "   ------------------------------ --------- 3/4 [pandas]\n",
      "   ---------------------------------------- 4/4 [pandas]\n",
      "\n",
      "Successfully installed numpy-2.3.2 pandas-2.3.2 pytz-2025.2 tzdata-2025.2\n"
     ]
    }
   ],
   "source": [
    "! pip install pandas "
   ]
  },
  {
   "cell_type": "code",
   "execution_count": null,
   "id": "15cb8d1f",
   "metadata": {},
   "outputs": [
    {
     "name": "stdout",
     "output_type": "stream",
     "text": [
      "   source_name                                        source_link  event_id  \\\n",
      "0          AGU  https://blogs.agu.org/landslideblog/2008/10/14...       684   \n",
      "1    Oregonian  http://www.oregonlive.com/news/index.ssf/2009/...       956   \n",
      "2     CBS News  https://www.cbsnews.com/news/dozens-missing-af...       973   \n",
      "3      Reuters  https://in.reuters.com/article/idINIndia-41450...      1067   \n",
      "4  The Freeman  http://www.philstar.com/cebu-news/621414/lands...      2603   \n",
      "\n",
      "               event_date  event_time  \\\n",
      "0  08/01/2008 12:00:00 AM         NaN   \n",
      "1  01/02/2009 02:00:00 AM         NaN   \n",
      "2  01/19/2007 12:00:00 AM         NaN   \n",
      "3  07/31/2009 12:00:00 AM         NaN   \n",
      "4  10/16/2010 12:00:00 PM         NaN   \n",
      "\n",
      "                                         event_title  \\\n",
      "0      Sigou Village, Loufan County, Shanxi Province   \n",
      "1                                Lake Oswego, Oregon   \n",
      "2  San Ramon district, 195 miles northeast of the...   \n",
      "3                                   Dailekh district   \n",
      "4                    sitio Bakilid in barangay Lahug   \n",
      "\n",
      "                                   event_description  \\\n",
      "0  occurred early in morning, 11 villagers buried...   \n",
      "1  Hours of heavy rain are to blame for an overni...   \n",
      "2  (CBS/AP) At least 10 people died and as many a...   \n",
      "3  One person was killed in Dailekh district, pol...   \n",
      "4  Another landslide in sitio Bakilid in barangay...   \n",
      "\n",
      "                                location_description location_accuracy  \\\n",
      "0      Sigou Village, Loufan County, Shanxi Province           unknown   \n",
      "1                                Lake Oswego, Oregon               5km   \n",
      "2  San Ramon district, 195 miles northeast of the...              10km   \n",
      "3                                   Dailekh district           unknown   \n",
      "4                    sitio Bakilid in barangay Lahug               5km   \n",
      "\n",
      "  landslide_category  ... country_code admin_division_name  \\\n",
      "0          landslide  ...           CN             Shaanxi   \n",
      "1           mudslide  ...           US              Oregon   \n",
      "2          landslide  ...           PE               Junín   \n",
      "3          landslide  ...           NP         Mid Western   \n",
      "4          landslide  ...           PH     Central Visayas   \n",
      "\n",
      "  admin_division_population  gazeteer_closest_point  gazeteer_distance  \\\n",
      "0                       0.0                Jingyang           41.02145   \n",
      "1                   36619.0             Lake Oswego            0.60342   \n",
      "2                   14708.0               San Ramón            0.85548   \n",
      "3                   20908.0                 Dailekh            0.75395   \n",
      "4                  798634.0               Cebu City            2.02204   \n",
      "\n",
      "           submitted_date            created_date        last_edited_date  \\\n",
      "0  04/01/2014 12:00:00 AM  11/20/2017 03:17:00 PM  02/15/2018 03:51:00 PM   \n",
      "1  04/01/2014 12:00:00 AM  11/20/2017 03:17:00 PM  02/15/2018 03:51:00 PM   \n",
      "2  04/01/2014 12:00:00 AM  11/20/2017 03:17:00 PM  02/15/2018 03:51:00 PM   \n",
      "3  04/01/2014 12:00:00 AM  11/20/2017 03:17:00 PM  02/15/2018 03:51:00 PM   \n",
      "4  04/01/2014 12:00:00 AM  11/20/2017 03:17:00 PM  02/15/2018 03:51:00 PM   \n",
      "\n",
      "  longitude  latitude  \n",
      "0  107.4500   32.5625  \n",
      "1 -122.6630   45.4200  \n",
      "2  -75.3587  -11.1295  \n",
      "3   81.7080   28.8378  \n",
      "4  123.8978   10.3336  \n",
      "\n",
      "[5 rows x 31 columns]\n"
     ]
    }
   ],
   "source": [
    "import pandas as pd\n",
    "\n",
    "\n",
    "df = pd.read_csv(\"Global_Landslide_Catalog_Export.csv\")   \n",
    "\n",
    "\n",
    "print(df.head())"
   ]
  },
  {
   "cell_type": "code",
   "execution_count": 2,
   "id": "95d8eaa6",
   "metadata": {},
   "outputs": [
    {
     "name": "stdout",
     "output_type": "stream",
     "text": [
      "<class 'pandas.core.frame.DataFrame'>\n",
      "RangeIndex: 11033 entries, 0 to 11032\n",
      "Data columns (total 31 columns):\n",
      " #   Column                     Non-Null Count  Dtype  \n",
      "---  ------                     --------------  -----  \n",
      " 0   source_name                11033 non-null  object \n",
      " 1   source_link                10187 non-null  object \n",
      " 2   event_id                   11033 non-null  int64  \n",
      " 3   event_date                 11033 non-null  object \n",
      " 4   event_time                 0 non-null      float64\n",
      " 5   event_title                11033 non-null  object \n",
      " 6   event_description          10171 non-null  object \n",
      " 7   location_description       10931 non-null  object \n",
      " 8   location_accuracy          11031 non-null  object \n",
      " 9   landslide_category         11032 non-null  object \n",
      " 10  landslide_trigger          11010 non-null  object \n",
      " 11  landslide_size             11024 non-null  object \n",
      " 12  landslide_setting          10964 non-null  object \n",
      " 13  fatality_count             9648 non-null   float64\n",
      " 14  injury_count               5359 non-null   float64\n",
      " 15  storm_name                 577 non-null    object \n",
      " 16  photo_link                 1496 non-null   object \n",
      " 17  notes                      317 non-null    object \n",
      " 18  event_import_source        9470 non-null   object \n",
      " 19  event_import_id            9471 non-null   float64\n",
      " 20  country_name               9471 non-null   object \n",
      " 21  country_code               9469 non-null   object \n",
      " 22  admin_division_name        9396 non-null   object \n",
      " 23  admin_division_population  9471 non-null   float64\n",
      " 24  gazeteer_closest_point     9470 non-null   object \n",
      " 25  gazeteer_distance          9471 non-null   float64\n",
      " 26  submitted_date             11023 non-null  object \n",
      " 27  created_date               11032 non-null  object \n",
      " 28  last_edited_date           11033 non-null  object \n",
      " 29  longitude                  11033 non-null  float64\n",
      " 30  latitude                   11033 non-null  float64\n",
      "dtypes: float64(8), int64(1), object(22)\n",
      "memory usage: 2.6+ MB\n"
     ]
    },
    {
     "data": {
      "text/plain": [
       "source_name                      0\n",
       "source_link                    846\n",
       "event_id                         0\n",
       "event_date                       0\n",
       "event_time                   11033\n",
       "event_title                      0\n",
       "event_description              862\n",
       "location_description           102\n",
       "location_accuracy                2\n",
       "landslide_category               1\n",
       "landslide_trigger               23\n",
       "landslide_size                   9\n",
       "landslide_setting               69\n",
       "fatality_count                1385\n",
       "injury_count                  5674\n",
       "storm_name                   10456\n",
       "photo_link                    9537\n",
       "notes                        10716\n",
       "event_import_source           1563\n",
       "event_import_id               1562\n",
       "country_name                  1562\n",
       "country_code                  1564\n",
       "admin_division_name           1637\n",
       "admin_division_population     1562\n",
       "gazeteer_closest_point        1563\n",
       "gazeteer_distance             1562\n",
       "submitted_date                  10\n",
       "created_date                     1\n",
       "last_edited_date                 0\n",
       "longitude                        0\n",
       "latitude                         0\n",
       "dtype: int64"
      ]
     },
     "execution_count": 2,
     "metadata": {},
     "output_type": "execute_result"
    }
   ],
   "source": [
    "df.info()\n",
    "df.describe()\n",
    "df.isnull().sum()\n"
   ]
  },
  {
   "cell_type": "markdown",
   "id": "cc534d4b",
   "metadata": {},
   "source": [
    "### Observations (Week 1: Landslide Dataset)\n",
    "\n",
    "-The dataset contains around 5 rows and 31 columns.  \n",
    "- Important columns: `event_date`, `country_name`, `trigger`, `landslide_size`, `fatalities`.  \n",
    "- Several columns have missing values, especially in `fatalities`, `injuries`, and `landslide_size`.  \n",
    "- `event_date` can be used to study yearly or seasonal patterns.  \n",
    "- Rainfall appears as the most common trigger for landslides.  "
   ]
  },
  {
   "cell_type": "markdown",
   "id": "460a66f0",
   "metadata": {},
   "source": []
  }
 ],
 "metadata": {
  "kernelspec": {
   "display_name": "Python 3",
   "language": "python",
   "name": "python3"
  },
  "language_info": {
   "codemirror_mode": {
    "name": "ipython",
    "version": 3
   },
   "file_extension": ".py",
   "mimetype": "text/x-python",
   "name": "python",
   "nbconvert_exporter": "python",
   "pygments_lexer": "ipython3",
   "version": "3.12.0"
  }
 },
 "nbformat": 4,
 "nbformat_minor": 5
}
